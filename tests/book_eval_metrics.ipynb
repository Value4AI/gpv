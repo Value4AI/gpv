{
 "cells": [
  {
   "cell_type": "code",
   "execution_count": 22,
   "metadata": {},
   "outputs": [
    {
     "data": {
      "text/plain": [
       "({'唐僧': {'Universalism': 0.8920416269037459,\n",
       "   'Hedonism': 0,\n",
       "   'Achievement': 0.9876969986491733,\n",
       "   'Power': 0.7332806076322284,\n",
       "   'Security': 0.9375,\n",
       "   'Self-Direction': -0.3240296407179399,\n",
       "   'Stimulation': 0,\n",
       "   'Tradition': 0.9588095699295853,\n",
       "   'Benevolence': 1.0,\n",
       "   'Conformity': -0.13770889987548193},\n",
       "  '悟空': {'Universalism': 1.0,\n",
       "   'Hedonism': 0,\n",
       "   'Achievement': 1.0,\n",
       "   'Power': 0.974189281463623,\n",
       "   'Security': 0.7333333333333333,\n",
       "   'Self-Direction': 0.5384615384615384,\n",
       "   'Stimulation': 1.0,\n",
       "   'Tradition': 1.0,\n",
       "   'Benevolence': 0.875,\n",
       "   'Conformity': 0.5},\n",
       "  '八戒': {'Universalism': 0,\n",
       "   'Hedonism': 0.8,\n",
       "   'Achievement': 0.8433399399121603,\n",
       "   'Power': 0.9719934649765491,\n",
       "   'Security': 0.9435934917284892,\n",
       "   'Self-Direction': -0.08650501403543684,\n",
       "   'Stimulation': 0,\n",
       "   'Tradition': 0.6305661116327558,\n",
       "   'Benevolence': 0.8316367268562317,\n",
       "   'Conformity': 0.23076923076923078},\n",
       "  '沙僧': {'Universalism': 1.0,\n",
       "   'Hedonism': 0,\n",
       "   'Achievement': 1.0,\n",
       "   'Power': 0,\n",
       "   'Security': 1.0,\n",
       "   'Self-Direction': -0.4151780651165889,\n",
       "   'Stimulation': 0,\n",
       "   'Tradition': 0.9016852378845215,\n",
       "   'Benevolence': 0.7267772005154536,\n",
       "   'Conformity': 0.7003267755111059}},\n",
       " {'唐僧': {'supports': ['Universalism',\n",
       "    'Achievement',\n",
       "    'Security',\n",
       "    'Tradition',\n",
       "    'Benevolence'],\n",
       "   'opposes': []},\n",
       "  '悟空': {'supports': ['Achievement', 'Benevolence', 'Self-Direction'],\n",
       "   'opposes': ['Security']},\n",
       "  '沙僧': {'supports': ['Security', 'Conformity', 'Tradition', 'Benevolence'],\n",
       "   'opposes': ['Achievement', 'Power', 'Self-Direction']},\n",
       "  '八戒': {'supports': ['Hedonism', 'Benevolence', 'Self-Direction'],\n",
       "   'opposes': ['Achievement']}})"
      ]
     },
     "execution_count": 22,
     "metadata": {},
     "output_type": "execute_result"
    }
   ],
   "source": [
    "import json\n",
    "\n",
    "path = \"value2scores_2024-09-09_23-33-06.json\"\n",
    "with open(path, \"r\") as f:\n",
    "    data_raw = json.load(f)\n",
    "    \n",
    "data = {}\n",
    "\n",
    "th = 5\n",
    "for k, v in data_raw.items():\n",
    "    data[k] = {}\n",
    "    for value, scores in v.items():\n",
    "        if len(scores) < th:\n",
    "            data[k][value] = 0\n",
    "        else:\n",
    "            data[k][value] = sum(scores) / len(scores)\n",
    "\n",
    "path_gt = \"outputs/book_eval/book_eval_gt_within.json\"\n",
    "with open(path_gt, \"r\") as f:\n",
    "    data_gt = json.load(f)\n",
    "\n",
    "data, data_gt"
   ]
  },
  {
   "cell_type": "code",
   "execution_count": 20,
   "metadata": {},
   "outputs": [
    {
     "name": "stdout",
     "output_type": "stream",
     "text": [
      "0.75\n"
     ]
    }
   ],
   "source": [
    "import numpy as np\n",
    "# Replace all the None in the data with 0\n",
    "for key in data:\n",
    "    for key2 in data[key]:\n",
    "        if data[key][key2] is None:\n",
    "            data[key][key2] = 0\n",
    "\n",
    "\n",
    "correct = 0\n",
    "total = 0\n",
    "\n",
    "persons = list(data.keys())\n",
    "for person in persons:\n",
    "    \n",
    "\n",
    "\n",
    "    avg = np.mean(list(data[person].values()))\n",
    "    \n",
    "    for value_support in data_gt[person][\"supports\"]:\n",
    "        if data[person][value_support] >= avg:\n",
    "            correct += 1\n",
    "        total += 1\n",
    "\n",
    "    for value_oppose in data_gt[person][\"opposes\"]:\n",
    "        if data[person][value_oppose] < avg:\n",
    "            correct += 1\n",
    "        total += 1\n",
    "\n",
    "print(correct/total)\n",
    "        "
   ]
  },
  {
   "cell_type": "code",
   "execution_count": 21,
   "metadata": {},
   "outputs": [
    {
     "name": "stdout",
     "output_type": "stream",
     "text": [
      "Consistency across persons: 0.76 ( 19 / 25 )\n"
     ]
    }
   ],
   "source": [
    "measurement_subjects = list(data.keys())\n",
    "values = list(data[measurement_subjects[0]].keys())\n",
    "\n",
    "\n",
    "# Load the ground truth\n",
    "path1 = \"outputs/book_eval/book_eval_gt_across.json\"\n",
    "with open(path1, \"r\") as file:\n",
    "    gt1 = json.load(file)\n",
    "\n",
    "\n",
    "for person in measurement_subjects:\n",
    "    for value in values:\n",
    "        if data[person][value] is None:\n",
    "            data[person][value] = 0\n",
    "\n",
    "\n",
    "# Evaluate the consistency between gt and pred\n",
    "correct = 0\n",
    "for person1, person2, value in gt1:\n",
    "    if data[person1][value] - data[person2][value] > 0:\n",
    "        correct += 1\n",
    "\n",
    "print(\"Consistency across persons:\", correct / len(gt1), \"(\", correct, \"/\", len(gt1), \")\")\n"
   ]
  }
 ],
 "metadata": {
  "kernelspec": {
   "display_name": "llama_factory",
   "language": "python",
   "name": "python3"
  },
  "language_info": {
   "codemirror_mode": {
    "name": "ipython",
    "version": 3
   },
   "file_extension": ".py",
   "mimetype": "text/x-python",
   "name": "python",
   "nbconvert_exporter": "python",
   "pygments_lexer": "ipython3",
   "version": "3.10.14"
  }
 },
 "nbformat": 4,
 "nbformat_minor": 2
}
