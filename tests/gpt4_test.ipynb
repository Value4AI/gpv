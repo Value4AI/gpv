{
 "cells": [
  {
   "cell_type": "markdown",
   "metadata": {},
   "source": [
    "## Generate test data"
   ]
  },
  {
   "cell_type": "code",
   "execution_count": 15,
   "metadata": {},
   "outputs": [],
   "source": [
    "import json\n",
    "\n",
    "prompt = \"\"\"[Background] Human values are the principles, standards, and qualities considered worthwhile or desirable by people. Schwartz values include self-direction, stimulation, hedonism, achievement, power, security, tradition, conformity, benevolence, and universalism.\n",
    "[Task] Write a story of over 1000 words and involving multiple characters, each of whom represents unique Schwartz values. The story can manifest the values that the characters support and oppose. After writing the story, conclude the Schwartz values each character supports and opposes.\n",
    "[Output format] The output follows the below format:\n",
    "Story: The story text\n",
    "```json\n",
    "[\n",
    "  {\n",
    "    \"name\": \"Alice\",\n",
    "    \"supports\": [\"self-direction\", \"hedonism\"],\n",
    "    \"opposes\": [\"conformity\"]\n",
    "  },\n",
    "  {\n",
    "    \"name\": \"Bob\",\n",
    "    \"supports\": [\"achievement\", \"power\"],\n",
    "    \"opposes\": [\"tradition\"]\n",
    "  }\n",
    "]\n",
    "```\n",
    "\"\"\"\n",
    "\n",
    "def parse_response(response):\n",
    "    # The text between \"Story:\" and \"```json\" is the story\n",
    "    story = response.split(\"Story:\")[1].split(\"```json\")[0].strip()\n",
    "    # The JSON part is the character values\n",
    "    values = json.loads(response.split(\"```json\")[1].strip('```').strip())\n",
    "    return story, values\n",
    "\n",
    "\n"
   ]
  },
  {
   "cell_type": "code",
   "execution_count": 30,
   "metadata": {},
   "outputs": [],
   "source": [
    "from gpv.models import OpenAIModel\n",
    "\n",
    "model_name = \"gpt-4o\"\n",
    "model = OpenAIModel(model_name, temperature=1.0, max_new_tokens=4096)\n",
    "\n",
    "responses2 = model.predict(prompt, kwargs={\"n\": 10})"
   ]
  },
  {
   "cell_type": "markdown",
   "metadata": {},
   "source": [
    "---"
   ]
  },
  {
   "cell_type": "markdown",
   "metadata": {},
   "source": [
    "## Evaluate the results"
   ]
  },
  {
   "cell_type": "code",
   "execution_count": 13,
   "metadata": {},
   "outputs": [
    {
     "name": "stdout",
     "output_type": "stream",
     "text": [
      "missed: 0 Emma self-direction\n",
      "os: 0 Raj hedonism\n",
      "missed: 0 Raj stimulation\n",
      "missed: 0 Carla self-direction\n",
      "missed: 0 Carla stimulation\n",
      "missed: 0 Lia achievement\n",
      "missed: 0 Lia power\n",
      "missed: 1 Clara self-direction\n",
      "missed: 1 David power\n",
      "missed: 2 Clara stimulation\n",
      "missed: 2 Daniel tradition\n",
      "missed: 2 Daniel stimulation\n",
      "missed: 2 Evelyn power\n",
      "os: 3 Max stimulation\n",
      "missed: 3 Hayley security\n",
      "os: 3 Clara power\n",
      "missed: 3 Clara hedonism\n",
      "os: 4 Bob tradition\n",
      "missed: 4 Clara power\n",
      "missed: 4 David stimulation\n",
      "missed: 4 Emma power\n",
      "missed: 5 Clara power\n",
      "missed: 5 Miriam security\n",
      "missed: 5 Miriam stimulation\n",
      "missed: 6 Claire self-direction\n",
      "missed: 6 Elena power\n",
      "missed: 7 Alice hedonism\n",
      "missed: 7 Bob tradition\n",
      "missed: 7 Evelyn power\n",
      "os: 7 George stimulation\n",
      "missed: 7 David security\n",
      "missed: 7 Linda stimulation\n",
      "missed: 7 Sophia power\n",
      "missed: 8 Greg self-direction\n",
      "missed: 8 Sophia achievement\n",
      "missed: 8 James universalism\n",
      "os: 8 Olivia security\n",
      "missed: 8 Martha stimulation\n",
      "missed: 9 Alice hedonism\n",
      "missed: 9 Clara stimulation\n",
      "missed: 9 Lucas power\n"
     ]
    }
   ],
   "source": [
    "import json\n",
    "\n",
    "schwartz_values = [\"self-direction\", \"stimulation\", \"hedonism\", \"achievement\", \"power\", \"security\", \"tradition\", \"conformity\", \"benevolence\", \"universalism\"]\n",
    "\n",
    "path_pred = \"../outputs/gpt4o_stories_scores.json\"\n",
    "path_gt = \"../outputs/gpt4o_stories.json\"\n",
    "\n",
    "\n",
    "with open(path_pred, \"r\") as f:\n",
    "    preds = json.load(f)\n",
    "\n",
    "with open(path_gt, \"r\") as f:\n",
    "    gts = json.load(f)\n",
    "\n",
    "# Lowercase all keys in the predictions\n",
    "for pred in preds:\n",
    "    for char in pred:\n",
    "        new_dict = {}\n",
    "        for value in pred[char]:\n",
    "            new_dict[value.lower()] = pred[char][value]\n",
    "        pred[char] = new_dict\n",
    "\n",
    "ss = 0 # gt support; pred support\n",
    "so = 0 # gt support; pred oppose\n",
    "os = 0 # gt oppose; pred support\n",
    "oo = 0 # gt oppose; pred oppose\n",
    "missed = 0 # gt not in pred\n",
    "missed_chars = 0\n",
    "for instance, (gt, pred) in enumerate(zip(gts, preds)):\n",
    "    gt_chars = gt[\"characters\"]\n",
    "    for gt_char in gt_chars:\n",
    "        gt_name = gt_char[\"name\"]\n",
    "        gt_supports = gt_char[\"supports\"]\n",
    "        gt_opposes = gt_char[\"opposes\"]\n",
    "        \n",
    "        if gt_name not in pred:\n",
    "            missed_chars += 1\n",
    "            print(\"missed:\", instance, gt_name)\n",
    "            continue\n",
    "        for value_support in gt_supports:\n",
    "            if value_support not in schwartz_values:\n",
    "                continue\n",
    "            assert value_support in pred[gt_name]\n",
    "            pred_valence = pred[gt_name].get(value_support)\n",
    "            if pred_valence is None:\n",
    "                missed += 1\n",
    "                print(\"missed:\", instance, gt_name, value_support)\n",
    "            elif pred_valence > 0:\n",
    "                ss += 1\n",
    "            else:\n",
    "                so += 1\n",
    "        for value_oppose in gt_opposes:\n",
    "            if value_oppose not in schwartz_values:\n",
    "                continue\n",
    "            assert value_oppose in pred[gt_name]\n",
    "            pred_valence = pred[gt_name].get(value_oppose)\n",
    "            if pred_valence is None:\n",
    "                missed += 1\n",
    "                print(\"missed:\", instance, gt_name, value_oppose)\n",
    "            elif pred_valence > 0:\n",
    "                os += 1\n",
    "                print(\"os:\", instance, gt_name, value_oppose)\n",
    "            else:\n",
    "                oo += 1"
   ]
  },
  {
   "cell_type": "code",
   "execution_count": 14,
   "metadata": {},
   "outputs": [
    {
     "data": {
      "text/plain": [
       "(104, 0, 6, 29, 35, 0)"
      ]
     },
     "execution_count": 14,
     "metadata": {},
     "output_type": "execute_result"
    }
   ],
   "source": [
    "ss, so, os, oo, missed, missed_chars"
   ]
  },
  {
   "cell_type": "code",
   "execution_count": 15,
   "metadata": {},
   "outputs": [
    {
     "data": {
      "text/plain": [
       "0.9568345323741008"
      ]
     },
     "execution_count": 15,
     "metadata": {},
     "output_type": "execute_result"
    }
   ],
   "source": [
    "acc = (ss + oo) / (ss + so + os + oo)\n",
    "acc"
   ]
  },
  {
   "cell_type": "markdown",
   "metadata": {},
   "source": [
    "此处将GPT-4o的生成作为ground truth，需要做一些解释：为什么不直接用GPT-4o做测定，而设计GPV?\n",
    "\n",
    "此处GPT的生成是一个简单任务，作验证目的：\n",
    "- 封闭价值空间，仅仅涉及施瓦茨价值；更多价值维度会给GPT推理带来较大挑战\n",
    "- 生成1000单词长度的短文\n",
    "- 粗粒度的测定，只关注角色**总体上**是支持还是反对一个价值\n",
    "\n",
    "GPV的优势\n",
    "- 开放价值空间，可以涉及任意多的价值维度，不会有性能损失\n",
    "- 任意长度文本\n",
    "- 细粒度的测定，可以关注角色在不同情境下的perception，针对细粒度perception进行测定并聚合\n"
   ]
  }
 ],
 "metadata": {
  "kernelspec": {
   "display_name": "base",
   "language": "python",
   "name": "python3"
  },
  "language_info": {
   "codemirror_mode": {
    "name": "ipython",
    "version": 3
   },
   "file_extension": ".py",
   "mimetype": "text/x-python",
   "name": "python",
   "nbconvert_exporter": "python",
   "pygments_lexer": "ipython3",
   "version": "3.11.3"
  }
 },
 "nbformat": 4,
 "nbformat_minor": 2
}
