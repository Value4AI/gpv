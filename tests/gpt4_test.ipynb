{
 "cells": [
  {
   "cell_type": "code",
   "execution_count": 15,
   "metadata": {},
   "outputs": [],
   "source": [
    "import json\n",
    "\n",
    "prompt = \"\"\"[Background] Human values are the principles, standards, and qualities considered worthwhile or desirable by people. Schwartz values include self-direction, stimulation, hedonism, achievement, power, security, tradition, conformity, benevolence, and universalism.\n",
    "[Task] Write a story of over 1000 words and involving multiple characters, each of whom represents unique Schwartz values. The story can manifest the values that the characters support and oppose. After writing the story, conclude the Schwartz values each character supports and opposes.\n",
    "[Output format] The output follows the below format:\n",
    "Story: The story text\n",
    "```json\n",
    "[\n",
    "  {\n",
    "    \"name\": \"Alice\",\n",
    "    \"supports\": [\"self-direction\", \"hedonism\"],\n",
    "    \"opposes\": [\"conformity\"]\n",
    "  },\n",
    "  {\n",
    "    \"name\": \"Bob\",\n",
    "    \"supports\": [\"achievement\", \"power\"],\n",
    "    \"opposes\": [\"tradition\"]\n",
    "  }\n",
    "]\n",
    "```\n",
    "\"\"\"\n",
    "\n",
    "def parse_response(response):\n",
    "    # The text between \"Story:\" and \"```json\" is the story\n",
    "    story = response.split(\"Story:\")[1].split(\"```json\")[0].strip()\n",
    "    # The JSON part is the character values\n",
    "    values = json.loads(response.split(\"```json\")[1].strip('```').strip())\n",
    "    return story, values\n",
    "\n",
    "\n"
   ]
  },
  {
   "cell_type": "code",
   "execution_count": 30,
   "metadata": {},
   "outputs": [],
   "source": [
    "from gpv.models import OpenAIModel\n",
    "\n",
    "model_name = \"gpt-4o\"\n",
    "model = OpenAIModel(model_name, temperature=1.0, max_new_tokens=4096)\n",
    "\n",
    "responses2 = model.predict(prompt, kwargs={\"n\": 10})"
   ]
  }
 ],
 "metadata": {
  "kernelspec": {
   "display_name": "base",
   "language": "python",
   "name": "python3"
  },
  "language_info": {
   "codemirror_mode": {
    "name": "ipython",
    "version": 3
   },
   "file_extension": ".py",
   "mimetype": "text/x-python",
   "name": "python",
   "nbconvert_exporter": "python",
   "pygments_lexer": "ipython3",
   "version": "3.11.3"
  }
 },
 "nbformat": 4,
 "nbformat_minor": 2
}
