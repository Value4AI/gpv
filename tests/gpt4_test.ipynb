{
 "cells": [
  {
   "cell_type": "code",
   "execution_count": null,
   "metadata": {},
   "outputs": [],
   "source": [
    "prompt = \"\"\"[Background] Human values are the principles, standards, and qualities considered worthwhile or desirable by people. Schwartz values include self-direction, stimulation, hedonism, achievement, power, security, tradition, conformity, benevolence, and universalism.\n",
    "[Task] Write a story of over 1000 words and involving multiple characters, each of whom represents unique Schwartz values. The story can manifest the values that the characters support and oppose. After writing the story, conclude the values each character supports and opposes.\n",
    "[Output format] The output follows the below JSON format:\n",
    "{\n",
    "  \"story\": \"The story text\",\n",
    "  \"characters\": [\n",
    "    {\n",
    "      \"name\": \"Alice\",\n",
    "      \"supports\": [\"self-direction\", \"hedonism\"],\n",
    "      \"opposes\": [\"conformity\"]\n",
    "    },\n",
    "    {\n",
    "      \"name\": \"Bob\",\n",
    "      \"supports\": [\"achievement\", \"power\"],\n",
    "      \"opposes\": [\"tradition\"]\n",
    "    }\n",
    "  ]\n",
    "}\n",
    "\"\"\"\n",
    "\n",
    "from gpv.models import LLMModel\n",
    "\n",
    "model_name = \"gpt-4o\"\n",
    "model = LLMModel(model_name, temperature=1.0, max_tokens=4096)\n",
    "\n",
    "responses = model([prompt], n=2)\n"
   ]
  }
 ],
 "metadata": {
  "language_info": {
   "name": "python"
  }
 },
 "nbformat": 4,
 "nbformat_minor": 2
}
