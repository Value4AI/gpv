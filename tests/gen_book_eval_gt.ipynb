{
 "cells": [
  {
   "cell_type": "code",
   "execution_count": 1,
   "metadata": {},
   "outputs": [
    {
     "data": {
      "text/plain": [
       "(['唐僧', '悟空', '沙僧', '八戒'],\n",
       " ['Universalism',\n",
       "  'Hedonism',\n",
       "  'Achievement',\n",
       "  'Power',\n",
       "  'Security',\n",
       "  'Conformity',\n",
       "  'Tradition',\n",
       "  'Benevolence',\n",
       "  'Stimulation',\n",
       "  'Self-Direction'])"
      ]
     },
     "execution_count": 1,
     "metadata": {},
     "output_type": "execute_result"
    }
   ],
   "source": [
    "import json\n",
    "\n",
    "path_gt = \"../outputs/essay_eval/entity2scores_test.json\"\n",
    "\n",
    "# Load ground truth\n",
    "with open(path_gt, 'r') as f:\n",
    "    gt = json.load(f)\n",
    "\n",
    "test_datasets = []\n",
    "persons = list(gt.keys())[:-1]\n",
    "values = list(gt[persons[0]].keys())\n",
    "\n",
    "persons, values"
   ]
  },
  {
   "cell_type": "code",
   "execution_count": 2,
   "metadata": {},
   "outputs": [
    {
     "name": "stdout",
     "output_type": "stream",
     "text": [
      "25 [('唐僧', '悟空', 'Universalism'), ('唐僧', '沙僧', 'Universalism'), ('唐僧', '八戒', 'Universalism'), ('八戒', '唐僧', 'Hedonism'), ('八戒', '悟空', 'Hedonism'), ('八戒', '沙僧', 'Hedonism'), ('唐僧', '沙僧', 'Achievement'), ('唐僧', '八戒', 'Achievement'), ('悟空', '沙僧', 'Achievement'), ('悟空', '八戒', 'Achievement'), ('唐僧', '悟空', 'Security'), ('唐僧', '八戒', 'Security'), ('沙僧', '悟空', 'Security'), ('沙僧', '八戒', 'Security'), ('沙僧', '唐僧', 'Conformity'), ('沙僧', '悟空', 'Conformity'), ('沙僧', '八戒', 'Conformity'), ('唐僧', '悟空', 'Tradition'), ('唐僧', '八戒', 'Tradition'), ('沙僧', '悟空', 'Tradition'), ('沙僧', '八戒', 'Tradition'), ('悟空', '唐僧', 'Self-Direction'), ('八戒', '唐僧', 'Self-Direction'), ('悟空', '沙僧', 'Self-Direction'), ('八戒', '沙僧', 'Self-Direction')]\n",
      "91 [('唐僧', 'Universalism', 'Hedonism'), ('唐僧', 'Universalism', 'Power'), ('唐僧', 'Universalism', 'Conformity'), ('唐僧', 'Universalism', 'Stimulation'), ('唐僧', 'Universalism', 'Self-Direction'), ('唐僧', 'Achievement', 'Hedonism'), ('唐僧', 'Security', 'Hedonism'), ('唐僧', 'Tradition', 'Hedonism'), ('唐僧', 'Benevolence', 'Hedonism'), ('唐僧', 'Achievement', 'Power'), ('唐僧', 'Achievement', 'Conformity'), ('唐僧', 'Achievement', 'Stimulation'), ('唐僧', 'Achievement', 'Self-Direction'), ('唐僧', 'Security', 'Power'), ('唐僧', 'Tradition', 'Power'), ('唐僧', 'Benevolence', 'Power'), ('唐僧', 'Security', 'Conformity'), ('唐僧', 'Security', 'Stimulation'), ('唐僧', 'Security', 'Self-Direction'), ('唐僧', 'Tradition', 'Conformity'), ('唐僧', 'Benevolence', 'Conformity'), ('唐僧', 'Tradition', 'Stimulation'), ('唐僧', 'Tradition', 'Self-Direction'), ('唐僧', 'Benevolence', 'Stimulation'), ('唐僧', 'Benevolence', 'Self-Direction'), ('悟空', 'Achievement', 'Universalism'), ('悟空', 'Benevolence', 'Universalism'), ('悟空', 'Self-Direction', 'Universalism'), ('悟空', 'Achievement', 'Hedonism'), ('悟空', 'Benevolence', 'Hedonism'), ('悟空', 'Self-Direction', 'Hedonism'), ('悟空', 'Achievement', 'Power'), ('悟空', 'Achievement', 'Security'), ('悟空', 'Achievement', 'Conformity'), ('悟空', 'Achievement', 'Tradition'), ('悟空', 'Achievement', 'Stimulation'), ('悟空', 'Benevolence', 'Power'), ('悟空', 'Self-Direction', 'Power'), ('悟空', 'Benevolence', 'Security'), ('悟空', 'Self-Direction', 'Security'), ('悟空', 'Benevolence', 'Conformity'), ('悟空', 'Self-Direction', 'Conformity'), ('悟空', 'Benevolence', 'Tradition'), ('悟空', 'Self-Direction', 'Tradition'), ('悟空', 'Benevolence', 'Stimulation'), ('悟空', 'Self-Direction', 'Stimulation'), ('沙僧', 'Security', 'Universalism'), ('沙僧', 'Conformity', 'Universalism'), ('沙僧', 'Tradition', 'Universalism'), ('沙僧', 'Benevolence', 'Universalism'), ('沙僧', 'Security', 'Hedonism'), ('沙僧', 'Conformity', 'Hedonism'), ('沙僧', 'Tradition', 'Hedonism'), ('沙僧', 'Benevolence', 'Hedonism'), ('沙僧', 'Security', 'Achievement'), ('沙僧', 'Conformity', 'Achievement'), ('沙僧', 'Tradition', 'Achievement'), ('沙僧', 'Benevolence', 'Achievement'), ('沙僧', 'Security', 'Power'), ('沙僧', 'Conformity', 'Power'), ('沙僧', 'Tradition', 'Power'), ('沙僧', 'Benevolence', 'Power'), ('沙僧', 'Security', 'Stimulation'), ('沙僧', 'Security', 'Self-Direction'), ('沙僧', 'Conformity', 'Stimulation'), ('沙僧', 'Conformity', 'Self-Direction'), ('沙僧', 'Tradition', 'Stimulation'), ('沙僧', 'Tradition', 'Self-Direction'), ('沙僧', 'Benevolence', 'Stimulation'), ('沙僧', 'Benevolence', 'Self-Direction'), ('八戒', 'Hedonism', 'Universalism'), ('八戒', 'Benevolence', 'Universalism'), ('八戒', 'Self-Direction', 'Universalism'), ('八戒', 'Hedonism', 'Achievement'), ('八戒', 'Hedonism', 'Power'), ('八戒', 'Hedonism', 'Security'), ('八戒', 'Hedonism', 'Conformity'), ('八戒', 'Hedonism', 'Tradition'), ('八戒', 'Hedonism', 'Stimulation'), ('八戒', 'Benevolence', 'Achievement'), ('八戒', 'Self-Direction', 'Achievement'), ('八戒', 'Benevolence', 'Power'), ('八戒', 'Self-Direction', 'Power'), ('八戒', 'Benevolence', 'Security'), ('八戒', 'Self-Direction', 'Security'), ('八戒', 'Benevolence', 'Conformity'), ('八戒', 'Self-Direction', 'Conformity'), ('八戒', 'Benevolence', 'Tradition'), ('八戒', 'Self-Direction', 'Tradition'), ('八戒', 'Benevolence', 'Stimulation'), ('八戒', 'Self-Direction', 'Stimulation')]\n"
     ]
    }
   ],
   "source": [
    "# Replace all null in gt with 0\n",
    "for person in persons:\n",
    "    for value in values:\n",
    "        if gt[person][value] is None:\n",
    "            gt[person][value] = 0\n",
    "\n",
    "for value in values:\n",
    "    for person1_id in range(len(persons)):\n",
    "        for person2_id in range(person1_id+1, len(persons)):\n",
    "            person1 = persons[person1_id]\n",
    "            person2 = persons[person2_id]\n",
    "            if gt[person1][value] is None or gt[person2][value] is None: # TODO\n",
    "                continue\n",
    "            if gt[person1][value] > 0 and gt[person2][value] <= 0:\n",
    "                test_datasets.append((person1, person2, value))\n",
    "            elif gt[person1][value] <= 0 and gt[person2][value] > 0:\n",
    "                test_datasets.append((person2, person1, value))\n",
    "                \n",
    "\n",
    "\n",
    "test_datasets2 = []\n",
    "for person in persons:\n",
    "    for value1_id in range(len(values)):\n",
    "        for value2_id in range(value1_id+1, len(values)):\n",
    "            value1 = values[value1_id]\n",
    "            value2 = values[value2_id]\n",
    "            if gt[person][value1] > 0 and gt[person][value2] <= 0:\n",
    "                test_datasets2.append((person, value1, value2))\n",
    "            elif gt[person][value1] <= 0 and gt[person][value2] > 0:\n",
    "                test_datasets2.append((person, value2, value1))\n",
    "\n",
    "print(len(test_datasets), test_datasets)\n",
    "print(len(test_datasets2), test_datasets2)"
   ]
  },
  {
   "cell_type": "code",
   "execution_count": 4,
   "metadata": {},
   "outputs": [],
   "source": [
    "# Save the gt\n",
    "path_gt = \"../outputs/book_eval/book_eval_gt_across.json\"\n",
    "with open(path_gt, 'w') as f:\n",
    "    json.dump(test_datasets, f, indent=4)\n",
    "\n",
    "path_gt = \"../outputs/book_eval/book_eval_gt_within.json\"\n",
    "with open(path_gt, 'w') as f:\n",
    "    json.dump(test_datasets2, f, indent=4)"
   ]
  }
 ],
 "metadata": {
  "kernelspec": {
   "display_name": "llama_factory",
   "language": "python",
   "name": "python3"
  },
  "language_info": {
   "codemirror_mode": {
    "name": "ipython",
    "version": 3
   },
   "file_extension": ".py",
   "mimetype": "text/x-python",
   "name": "python",
   "nbconvert_exporter": "python",
   "pygments_lexer": "ipython3",
   "version": "3.10.14"
  }
 },
 "nbformat": 4,
 "nbformat_minor": 2
}
