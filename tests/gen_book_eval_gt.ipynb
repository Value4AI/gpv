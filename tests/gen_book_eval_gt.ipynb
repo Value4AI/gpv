{
 "cells": [
  {
   "cell_type": "code",
   "execution_count": 1,
   "metadata": {},
   "outputs": [
    {
     "data": {
      "text/plain": [
       "(['唐僧', '悟空', '沙僧', '八戒'],\n",
       " ['Universalism',\n",
       "  'Hedonism',\n",
       "  'Achievement',\n",
       "  'Power',\n",
       "  'Security',\n",
       "  'Conformity',\n",
       "  'Tradition',\n",
       "  'Benevolence',\n",
       "  'Stimulation',\n",
       "  'Self-Direction'])"
      ]
     },
     "execution_count": 1,
     "metadata": {},
     "output_type": "execute_result"
    }
   ],
   "source": [
    "import json\n",
    "\n",
    "path_gt = \"../outputs/entity2scores_test.json\"\n",
    "\n",
    "# Load ground truth\n",
    "with open(path_gt, 'r') as f:\n",
    "    gt = json.load(f)\n",
    "\n",
    "test_datasets = []\n",
    "persons = list(gt.keys())[:-1]\n",
    "values = list(gt[persons[0]].keys())\n",
    "\n",
    "persons, values"
   ]
  },
  {
   "cell_type": "code",
   "execution_count": 2,
   "metadata": {},
   "outputs": [
    {
     "data": {
      "text/plain": [
       "(25,\n",
       " [('唐僧', '悟空', 'Universalism'),\n",
       "  ('唐僧', '沙僧', 'Universalism'),\n",
       "  ('唐僧', '八戒', 'Universalism'),\n",
       "  ('八戒', '唐僧', 'Hedonism'),\n",
       "  ('八戒', '悟空', 'Hedonism'),\n",
       "  ('八戒', '沙僧', 'Hedonism'),\n",
       "  ('唐僧', '沙僧', 'Achievement'),\n",
       "  ('唐僧', '八戒', 'Achievement'),\n",
       "  ('悟空', '沙僧', 'Achievement'),\n",
       "  ('悟空', '八戒', 'Achievement'),\n",
       "  ('唐僧', '悟空', 'Security'),\n",
       "  ('唐僧', '八戒', 'Security'),\n",
       "  ('沙僧', '悟空', 'Security'),\n",
       "  ('沙僧', '八戒', 'Security'),\n",
       "  ('沙僧', '唐僧', 'Conformity'),\n",
       "  ('沙僧', '悟空', 'Conformity'),\n",
       "  ('沙僧', '八戒', 'Conformity'),\n",
       "  ('唐僧', '悟空', 'Tradition'),\n",
       "  ('唐僧', '八戒', 'Tradition'),\n",
       "  ('沙僧', '悟空', 'Tradition'),\n",
       "  ('沙僧', '八戒', 'Tradition'),\n",
       "  ('悟空', '唐僧', 'Self-Direction'),\n",
       "  ('八戒', '唐僧', 'Self-Direction'),\n",
       "  ('悟空', '沙僧', 'Self-Direction'),\n",
       "  ('八戒', '沙僧', 'Self-Direction')])"
      ]
     },
     "execution_count": 2,
     "metadata": {},
     "output_type": "execute_result"
    }
   ],
   "source": [
    "# Replace all null in gt with 0\n",
    "for person in persons:\n",
    "    for value in values:\n",
    "        if gt[person][value] is None:\n",
    "            gt[person][value] = 0\n",
    "\n",
    "for value in values:\n",
    "    for person1_id in range(len(persons)):\n",
    "        for person2_id in range(person1_id+1, len(persons)):\n",
    "            person1 = persons[person1_id]\n",
    "            person2 = persons[person2_id]\n",
    "            if gt[person1][value] is None or gt[person2][value] is None: # TODO\n",
    "                continue\n",
    "            if gt[person1][value] > 0 and gt[person2][value] <= 0:\n",
    "                test_datasets.append((person1, person2, value))\n",
    "            elif gt[person1][value] <= 0 and gt[person2][value] > 0:\n",
    "                test_datasets.append((person2, person1, value))\n",
    "                \n",
    "\n",
    "len(test_datasets), test_datasets"
   ]
  },
  {
   "cell_type": "code",
   "execution_count": 4,
   "metadata": {},
   "outputs": [],
   "source": [
    "# Save the gt\n",
    "path_gt = \"../outputs/book_eval_gt.json\"\n",
    "with open(path_gt, 'w') as f:\n",
    "    json.dump(test_datasets, f, indent=4)"
   ]
  }
 ],
 "metadata": {
  "kernelspec": {
   "display_name": "llama_factory",
   "language": "python",
   "name": "python3"
  },
  "language_info": {
   "codemirror_mode": {
    "name": "ipython",
    "version": 3
   },
   "file_extension": ".py",
   "mimetype": "text/x-python",
   "name": "python",
   "nbconvert_exporter": "python",
   "pygments_lexer": "ipython3",
   "version": "3.10.14"
  }
 },
 "nbformat": 4,
 "nbformat_minor": 2
}
