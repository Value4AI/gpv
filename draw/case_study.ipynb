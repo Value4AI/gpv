{
 "cells": [
  {
   "cell_type": "code",
   "execution_count": null,
   "metadata": {},
   "outputs": [],
   "source": [
    "import matplotlib.pyplot as plt\n",
    "import numpy as np\n",
    "\n",
    "# Data extracted from the JSON file\n",
    "path = \"../outputs/gpt4o_stories_scores.json\"\n",
    "\n",
    "with open(path, 'r') as f:\n",
    "    data = eval(f.read())\n",
    "\n",
    "# Define characters and values\n",
    "characters = list(data.keys())\n",
    "dimensions = [\"Universalism\", \"Hedonism\", \"Achievement\", \"Power\", \"Security\", \n",
    "              \"Conformity\", \"Tradition\", \"Benevolence\", \"Stimulation\", \"Self-Direction\"]\n",
    "\n",
    "# Plotting individual bar charts for each character\n",
    "fig, axs = plt.subplots(len(characters), 1, figsize=(10, 20), constrained_layout=True)\n",
    "\n",
    "for i, char in enumerate(characters):\n",
    "    scores = [data[char][dim] for dim in dimensions]\n",
    "    axs[i].bar(dimensions, scores, color='skyblue')\n",
    "    axs[i].set_title(char)\n",
    "    axs[i].set_ylim(-1.1, 1.1)\n",
    "    axs[i].set_ylabel('Score')\n",
    "    axs[i].tick_params(axis='x', rotation=45)\n",
    "    \n",
    "# Plotting combined bar chart\n",
    "fig2, ax2 = plt.subplots(figsize=(14, 8))\n",
    "\n",
    "for i, char in enumerate(characters):\n",
    "    scores = [data[char][dim] for dim in dimensions]\n",
    "    x_positions = np.arange(len(dimensions)) + (i - len(characters)/2)*0.1\n",
    "    ax2.bar(x_positions, scores, width=0.1, label=char)\n",
    "\n",
    "ax2.set_xticks(np.arange(len(dimensions)))\n",
    "ax2.set_xticklabels(dimensions, rotation=45)\n",
    "ax2.set_ylim(-1.1, 1.1)\n",
    "ax2.set_ylabel('Score')\n",
    "ax2.set_title('Comparison of Characters across Dimensions')\n",
    "ax2.legend()\n",
    "\n",
    "plt.show()\n"
   ]
  }
 ],
 "metadata": {
  "language_info": {
   "name": "python"
  }
 },
 "nbformat": 4,
 "nbformat_minor": 2
}
